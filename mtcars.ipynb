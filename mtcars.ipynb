{
  "nbformat": 4,
  "nbformat_minor": 0,
  "metadata": {
    "colab": {
      "name": "mtcars.ipynb",
      "version": "0.3.2",
      "provenance": []
    },
    "kernelspec": {
      "name": "python3",
      "display_name": "Python 3"
    }
  },
  "cells": [
    {
      "metadata": {
        "id": "1toF2Vzk9PSW",
        "colab_type": "text"
      },
      "cell_type": "markdown",
      "source": [
        "# High Performance Linear Regression of car brands as a function of engine cylinders"
      ]
    },
    {
      "metadata": {
        "id": "2dtxZUQ7BUFu",
        "colab_type": "text"
      },
      "cell_type": "markdown",
      "source": [
        "# Section 1: load dependencies"
      ]
    },
    {
      "metadata": {
        "id": "hnGiE8_q6S6G",
        "colab_type": "code",
        "colab": {}
      },
      "cell_type": "code",
      "source": [
        "#**Package Imports** \n",
        "#to access kaggle \n",
        "#!pip install kaggle \n",
        "#math operations \n",
        "#!pip install numpy \n",
        "#machine learning \n",
        "#data processing \n",
        "#!pip install catboost \n",
        "\n",
        "#math operations \n",
        "import pandas as pd \n",
        "\n",
        "#Machine learning \n",
        "import numpy as np \n",
        "\n",
        "#data scaliScalarng \n",
        "from sklearn.preprocessing import StandardScaler \n",
        "\n",
        "#hyperparameter optimization \n",
        "from sklearn.model_selection import GridSearchCV \n",
        "\n",
        "#support vector machine model \n",
        "from sklearn.svm import NuSVR, SVR \n",
        "\n",
        "#data visualization \n",
        "import matplotlib.pyplot as plt \n",
        "\n",
        "#Linear modeling\n",
        "import sklearn.linear_model\n",
        "\n",
        "# Import data transform tools\n",
        "import sklearn.preprocessing\n",
        "\n",
        "#Linear modeling\n",
        "import sklearn.linear_model"
      ],
      "execution_count": 0,
      "outputs": []
    },
    {
      "metadata": {
        "id": "_KHBu0N9CTuq",
        "colab_type": "text"
      },
      "cell_type": "markdown",
      "source": [
        "#Step 2: Load data"
      ]
    },
    {
      "metadata": {
        "id": "tKa3mSiu71I-",
        "colab_type": "code",
        "colab": {}
      },
      "cell_type": "code",
      "source": [
        "#colab file access feature\n",
        "from google.colab import files\n",
        "\n",
        "#retrive uploaded file\n",
        "uploaded = files.upload()\n",
        "\n",
        "#then move kaggle.json into the folder where API expects to find it\n",
        "#!mkdir -p ~/.kaggle/ && mv kaggle.json ~/kaggle/ && chmod 600 ~/.kaggle/kaggle.json"
      ],
      "execution_count": 0,
      "outputs": []
    },
    {
      "metadata": {
        "id": "87m7bi0BCVRG",
        "colab_type": "text"
      },
      "cell_type": "markdown",
      "source": [
        "#Step 3: Data visualization"
      ]
    },
    {
      "metadata": {
        "id": "wNrh1R7yqhS9",
        "colab_type": "code",
        "colab": {
          "base_uri": "https://localhost:8080/",
          "height": 142
        },
        "outputId": "2b7207b4-6dc1-4c06-c1b5-836177b29c7f"
      },
      "cell_type": "code",
      "source": [
        "#load data into variable\n",
        "mtcars = pd.read_excel('mtcars.xlsx')\n",
        "\n",
        "#verify data loaded\n",
        "mtcars.head(3)"
      ],
      "execution_count": 46,
      "outputs": [
        {
          "output_type": "execute_result",
          "data": {
            "text/html": [
              "<div>\n",
              "<style scoped>\n",
              "    .dataframe tbody tr th:only-of-type {\n",
              "        vertical-align: middle;\n",
              "    }\n",
              "\n",
              "    .dataframe tbody tr th {\n",
              "        vertical-align: top;\n",
              "    }\n",
              "\n",
              "    .dataframe thead th {\n",
              "        text-align: right;\n",
              "    }\n",
              "</style>\n",
              "<table border=\"1\" class=\"dataframe\">\n",
              "  <thead>\n",
              "    <tr style=\"text-align: right;\">\n",
              "      <th></th>\n",
              "      <th>model</th>\n",
              "      <th>mpg</th>\n",
              "      <th>cyl</th>\n",
              "      <th>disp</th>\n",
              "      <th>hp</th>\n",
              "      <th>drat</th>\n",
              "      <th>wt</th>\n",
              "      <th>qsec</th>\n",
              "      <th>vs</th>\n",
              "      <th>am</th>\n",
              "      <th>gear</th>\n",
              "      <th>carb</th>\n",
              "    </tr>\n",
              "  </thead>\n",
              "  <tbody>\n",
              "    <tr>\n",
              "      <th>0</th>\n",
              "      <td>Mazda RX4</td>\n",
              "      <td>21.0</td>\n",
              "      <td>6</td>\n",
              "      <td>160.0</td>\n",
              "      <td>110</td>\n",
              "      <td>3.90</td>\n",
              "      <td>2.620</td>\n",
              "      <td>16.46</td>\n",
              "      <td>0</td>\n",
              "      <td>1</td>\n",
              "      <td>4</td>\n",
              "      <td>4</td>\n",
              "    </tr>\n",
              "    <tr>\n",
              "      <th>1</th>\n",
              "      <td>Mazda RX4 Wag</td>\n",
              "      <td>21.0</td>\n",
              "      <td>6</td>\n",
              "      <td>160.0</td>\n",
              "      <td>110</td>\n",
              "      <td>3.90</td>\n",
              "      <td>2.875</td>\n",
              "      <td>17.02</td>\n",
              "      <td>0</td>\n",
              "      <td>1</td>\n",
              "      <td>4</td>\n",
              "      <td>4</td>\n",
              "    </tr>\n",
              "    <tr>\n",
              "      <th>2</th>\n",
              "      <td>Datsun 710</td>\n",
              "      <td>22.8</td>\n",
              "      <td>4</td>\n",
              "      <td>108.0</td>\n",
              "      <td>93</td>\n",
              "      <td>3.85</td>\n",
              "      <td>2.320</td>\n",
              "      <td>18.61</td>\n",
              "      <td>1</td>\n",
              "      <td>1</td>\n",
              "      <td>4</td>\n",
              "      <td>1</td>\n",
              "    </tr>\n",
              "  </tbody>\n",
              "</table>\n",
              "</div>"
            ],
            "text/plain": [
              "           model   mpg  cyl   disp   hp  drat     wt   qsec  vs  am  gear  \\\n",
              "0      Mazda RX4  21.0    6  160.0  110  3.90  2.620  16.46   0   1     4   \n",
              "1  Mazda RX4 Wag  21.0    6  160.0  110  3.90  2.875  17.02   0   1     4   \n",
              "2     Datsun 710  22.8    4  108.0   93  3.85  2.320  18.61   1   1     4   \n",
              "\n",
              "   carb  \n",
              "0     4  \n",
              "1     4  \n",
              "2     1  "
            ]
          },
          "metadata": {
            "tags": []
          },
          "execution_count": 46
        }
      ]
    },
    {
      "metadata": {
        "colab_type": "code",
        "outputId": "f8064374-6aeb-4442-afd3-d6ac6d2dc39a",
        "id": "Pf8miWiNU7eN",
        "colab": {
          "base_uri": "https://localhost:8080/",
          "height": 362
        }
      },
      "cell_type": "code",
      "source": [
        "#scatter plot  of MPG as function of CYL: group by CYL number\n",
        "color = ['red', 'green', 'blue']\n",
        "plt.scatter(x= mtcars['cyl'], y= mtcars['mpg'])\n",
        "plt.title('MPG as function of CYL')\n",
        "plt.show()"
      ],
      "execution_count": 47,
      "outputs": [
        {
          "output_type": "display_data",
          "data": {
            "image/png": "[encoded data removed]",
            "text/plain": [
              "<Figure size 576x396 with 1 Axes>"
            ]
          },
          "metadata": {
            "tags": []
          }
        }
      ]
    },
    {
      "metadata": {
        "id": "DBcy_xqzCVeY",
        "colab_type": "text"
      },
      "cell_type": "markdown",
      "source": [
        "#Step 4: Display Statistics"
      ]
    },
    {
      "metadata": {
        "id": "nlplouGdX9IS",
        "colab_type": "code",
        "colab": {
          "base_uri": "https://localhost:8080/",
          "height": 297
        },
        "outputId": "d56e2293-9648-43d7-fbbc-c79f565a8dca"
      },
      "cell_type": "code",
      "source": [
        "#demensions of object\n",
        "mtcars.describe()"
      ],
      "execution_count": 8,
      "outputs": [
        {
          "output_type": "execute_result",
          "data": {
            "text/html": [
              "<div>\n",
              "<style scoped>\n",
              "    .dataframe tbody tr th:only-of-type {\n",
              "        vertical-align: middle;\n",
              "    }\n",
              "\n",
              "    .dataframe tbody tr th {\n",
              "        vertical-align: top;\n",
              "    }\n",
              "\n",
              "    .dataframe thead th {\n",
              "        text-align: right;\n",
              "    }\n",
              "</style>\n",
              "<table border=\"1\" class=\"dataframe\">\n",
              "  <thead>\n",
              "    <tr style=\"text-align: right;\">\n",
              "      <th></th>\n",
              "      <th>mpg</th>\n",
              "      <th>cyl</th>\n",
              "      <th>disp</th>\n",
              "      <th>hp</th>\n",
              "      <th>drat</th>\n",
              "      <th>wt</th>\n",
              "      <th>qsec</th>\n",
              "      <th>vs</th>\n",
              "      <th>am</th>\n",
              "      <th>gear</th>\n",
              "      <th>carb</th>\n",
              "    </tr>\n",
              "  </thead>\n",
              "  <tbody>\n",
              "    <tr>\n",
              "      <th>count</th>\n",
              "      <td>32.000000</td>\n",
              "      <td>32.000000</td>\n",
              "      <td>32.000000</td>\n",
              "      <td>32.000000</td>\n",
              "      <td>32.000000</td>\n",
              "      <td>32.000000</td>\n",
              "      <td>32.000000</td>\n",
              "      <td>32.000000</td>\n",
              "      <td>32.000000</td>\n",
              "      <td>32.000000</td>\n",
              "      <td>32.0000</td>\n",
              "    </tr>\n",
              "    <tr>\n",
              "      <th>mean</th>\n",
              "      <td>20.090625</td>\n",
              "      <td>6.187500</td>\n",
              "      <td>230.721875</td>\n",
              "      <td>146.687500</td>\n",
              "      <td>3.596563</td>\n",
              "      <td>3.217250</td>\n",
              "      <td>17.848750</td>\n",
              "      <td>0.437500</td>\n",
              "      <td>0.406250</td>\n",
              "      <td>3.687500</td>\n",
              "      <td>2.8125</td>\n",
              "    </tr>\n",
              "    <tr>\n",
              "      <th>std</th>\n",
              "      <td>6.026948</td>\n",
              "      <td>1.785922</td>\n",
              "      <td>123.938694</td>\n",
              "      <td>68.562868</td>\n",
              "      <td>0.534679</td>\n",
              "      <td>0.978457</td>\n",
              "      <td>1.786943</td>\n",
              "      <td>0.504016</td>\n",
              "      <td>0.498991</td>\n",
              "      <td>0.737804</td>\n",
              "      <td>1.6152</td>\n",
              "    </tr>\n",
              "    <tr>\n",
              "      <th>min</th>\n",
              "      <td>10.400000</td>\n",
              "      <td>4.000000</td>\n",
              "      <td>71.100000</td>\n",
              "      <td>52.000000</td>\n",
              "      <td>2.760000</td>\n",
              "      <td>1.513000</td>\n",
              "      <td>14.500000</td>\n",
              "      <td>0.000000</td>\n",
              "      <td>0.000000</td>\n",
              "      <td>3.000000</td>\n",
              "      <td>1.0000</td>\n",
              "    </tr>\n",
              "    <tr>\n",
              "      <th>25%</th>\n",
              "      <td>15.425000</td>\n",
              "      <td>4.000000</td>\n",
              "      <td>120.825000</td>\n",
              "      <td>96.500000</td>\n",
              "      <td>3.080000</td>\n",
              "      <td>2.581250</td>\n",
              "      <td>16.892500</td>\n",
              "      <td>0.000000</td>\n",
              "      <td>0.000000</td>\n",
              "      <td>3.000000</td>\n",
              "      <td>2.0000</td>\n",
              "    </tr>\n",
              "    <tr>\n",
              "      <th>50%</th>\n",
              "      <td>19.200000</td>\n",
              "      <td>6.000000</td>\n",
              "      <td>196.300000</td>\n",
              "      <td>123.000000</td>\n",
              "      <td>3.695000</td>\n",
              "      <td>3.325000</td>\n",
              "      <td>17.710000</td>\n",
              "      <td>0.000000</td>\n",
              "      <td>0.000000</td>\n",
              "      <td>4.000000</td>\n",
              "      <td>2.0000</td>\n",
              "    </tr>\n",
              "    <tr>\n",
              "      <th>75%</th>\n",
              "      <td>22.800000</td>\n",
              "      <td>8.000000</td>\n",
              "      <td>326.000000</td>\n",
              "      <td>180.000000</td>\n",
              "      <td>3.920000</td>\n",
              "      <td>3.610000</td>\n",
              "      <td>18.900000</td>\n",
              "      <td>1.000000</td>\n",
              "      <td>1.000000</td>\n",
              "      <td>4.000000</td>\n",
              "      <td>4.0000</td>\n",
              "    </tr>\n",
              "    <tr>\n",
              "      <th>max</th>\n",
              "      <td>33.900000</td>\n",
              "      <td>8.000000</td>\n",
              "      <td>472.000000</td>\n",
              "      <td>335.000000</td>\n",
              "      <td>4.930000</td>\n",
              "      <td>5.424000</td>\n",
              "      <td>22.900000</td>\n",
              "      <td>1.000000</td>\n",
              "      <td>1.000000</td>\n",
              "      <td>5.000000</td>\n",
              "      <td>8.0000</td>\n",
              "    </tr>\n",
              "  </tbody>\n",
              "</table>\n",
              "</div>"
            ],
            "text/plain": [
              "             mpg        cyl        disp          hp       drat         wt  \\\n",
              "count  32.000000  32.000000   32.000000   32.000000  32.000000  32.000000   \n",
              "mean   20.090625   6.187500  230.721875  146.687500   3.596563   3.217250   \n",
              "std     6.026948   1.785922  123.938694   68.562868   0.534679   0.978457   \n",
              "min    10.400000   4.000000   71.100000   52.000000   2.760000   1.513000   \n",
              "25%    15.425000   4.000000  120.825000   96.500000   3.080000   2.581250   \n",
              "50%    19.200000   6.000000  196.300000  123.000000   3.695000   3.325000   \n",
              "75%    22.800000   8.000000  326.000000  180.000000   3.920000   3.610000   \n",
              "max    33.900000   8.000000  472.000000  335.000000   4.930000   5.424000   \n",
              "\n",
              "            qsec         vs         am       gear     carb  \n",
              "count  32.000000  32.000000  32.000000  32.000000  32.0000  \n",
              "mean   17.848750   0.437500   0.406250   3.687500   2.8125  \n",
              "std     1.786943   0.504016   0.498991   0.737804   1.6152  \n",
              "min    14.500000   0.000000   0.000000   3.000000   1.0000  \n",
              "25%    16.892500   0.000000   0.000000   3.000000   2.0000  \n",
              "50%    17.710000   0.000000   0.000000   4.000000   2.0000  \n",
              "75%    18.900000   1.000000   1.000000   4.000000   4.0000  \n",
              "max    22.900000   1.000000   1.000000   5.000000   8.0000  "
            ]
          },
          "metadata": {
            "tags": []
          },
          "execution_count": 8
        }
      ]
    },
    {
      "metadata": {
        "id": "WsjVIahXvwJM",
        "colab_type": "text"
      },
      "cell_type": "markdown",
      "source": [
        "#* Total number of records: 32\n",
        "#* Class levels: 3\n",
        "#* Class Values: 4; 6; 8\n",
        "#* F-value: 39.70\n",
        "#*  Pr>F: <0.0001\n",
        "#* R-Square: 0.7262\n",
        "\n",
        "\n"
      ]
    },
    {
      "metadata": {
        "id": "ZEmA9WXv9QcQ",
        "colab_type": "text"
      },
      "cell_type": "markdown",
      "source": [
        "#Step 5: Run Analysis"
      ]
    },
    {
      "metadata": {
        "id": "lmZ3UWatmxct",
        "colab_type": "code",
        "colab": {}
      },
      "cell_type": "code",
      "source": [
        "# Assign cyl to x variable and mpg to y variable\n",
        "x = np.c_[mtcars['cyl']]\n",
        "y = np.c_[mtcars['mpg']]"
      ],
      "execution_count": 0,
      "outputs": []
    },
    {
      "metadata": {
        "id": "62nFediDgD0V",
        "colab_type": "code",
        "colab": {}
      },
      "cell_type": "code",
      "source": [
        "# Select a linear model\n",
        "lin_reg = sklearn.linear_model.LinearRegression()\n",
        "\n",
        "# Train model\n",
        "lin_reg.fit(x,y)"
      ],
      "execution_count": 0,
      "outputs": []
    },
    {
      "metadata": {
        "id": "Usfjk22TncVU",
        "colab_type": "code",
        "colab": {}
      },
      "cell_type": "code",
      "source": [
        "# Select a linear model\n",
        "model = sklearn.linear_model.LinearRegression()\n",
        "\n",
        "# Train moel\n",
        "model.fit(x,y)"
      ],
      "execution_count": 0,
      "outputs": []
    },
    {
      "metadata": {
        "id": "NjxhoAi_esFo",
        "colab_type": "code",
        "colab": {}
      },
      "cell_type": "code",
      "source": [
        "# Predict x,y variable for Linear Regression\n",
        "x_new= lin_reg.predict(x)"
      ],
      "execution_count": 0,
      "outputs": []
    },
    {
      "metadata": {
        "id": "5do1HIaGgcWW",
        "colab_type": "code",
        "colab": {}
      },
      "cell_type": "code",
      "source": [
        "# Predict y variable\n",
        "y_new= lin_reg.predict(y)"
      ],
      "execution_count": 0,
      "outputs": []
    },
    {
      "metadata": {
        "id": "2D3cNdcKgl_g",
        "colab_type": "code",
        "colab": {
          "base_uri": "https://localhost:8080/",
          "height": 362
        },
        "outputId": "31e1f857-422a-48fb-dcdb-8c038c547895"
      },
      "cell_type": "code",
      "source": [
        "#scatter plot  of MPG as function of CYL: predicts MPG as function of CYL\n",
        "color = ['red', 'green', 'blue']\n",
        "plt.scatter(mtcars['cyl'], mtcars['mpg'])\n",
        "# Plot prediction in red\n",
        "plt.scatter(x_new, y_new, c='r')\n",
        "plt.title('MPG as function of CYL')\n",
        "x_label= 'CYL'\n",
        "y_label= 'MPG'\n",
        "plt.show()\n"
      ],
      "execution_count": 45,
      "outputs": [
        {
          "output_type": "display_data",
          "data": {
            "image/png": "[encoded data removed]",
            "text/plain": [
              "<Figure size 576x396 with 1 Axes>"
            ]
          },
          "metadata": {
            "tags": []
          }
        }
      ]
    },
    {
      "metadata": {
        "id": "00EhItF1ZkwX",
        "colab_type": "text"
      },
      "cell_type": "markdown",
      "source": [
        "# Data results"
      ]
    },
    {
      "metadata": {
        "id": "Sqs-egqR6I5D",
        "colab_type": "text"
      },
      "cell_type": "markdown",
      "source": [
        "List the estimate of the following parameters.\n",
        "* $ \\beta0:$\n",
        "* $\\beta1:$\n",
        "* $\\beta2:$\n",
        "* $\\beta3$\n",
        "\n",
        "\n",
        "Estimate slope\n",
        "* $\\beta1$ = slope to 4-cyl cars:\n",
        "* $\\beta2$= slope to 6-cyl cars:\n",
        "* $\\beta3$= slope to 6-cyl cars:\n",
        "\n",
        "\n",
        "Model\n",
        "\n",
        "y = $ \\beta0 + \\beta1X1 + \\beta2X2 + \\beta3X3$\n",
        "\n",
        "Test the following hypothesis\n",
        "\n",
        "*$H0= \\beta1= \\beta2= \\beta3= 0$ \n",
        "\n",
        "*$H0= \\beta1$\n",
        "\n",
        "*$Ho= \\beta2$\n",
        "\n",
        "*$H0= \\beta3$\n",
        "\n",
        "Compute $R^2$ and discuss the statistical properties of errors."
      ]
    }
  ]
}